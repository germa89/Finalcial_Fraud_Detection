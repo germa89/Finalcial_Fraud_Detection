{
 "cells": [
  {
   "cell_type": "markdown",
   "metadata": {},
   "source": [
    "**Title:** Fraud Detection on Credit Card records using Random Forest.   \n",
    "**Author:** German Martinez-Ayuso   "
   ]
  },
  {
   "cell_type": "markdown",
   "metadata": {},
   "source": [
    "**A not very formal, neither comprehensive guide to the application of the gradient boosted decision trees to the detection of fraud in finance.** \n",
    "\n",
    "\n",
    "Inspiration article: _\"Credit Card Fraud Detection using Autoencoders in Keras | TensorFlow for Hackers (Part VII)\"_ By Venelin Valkov. [Link](https://www.curiousily.com/posts/credit-card-fraud-detection-using-autoencoders-in-keras/)"
   ]
  },
  {
   "cell_type": "markdown",
   "metadata": {},
   "source": [
    "# Introduction\n",
    "\n",
    "Nowadays having a credit or debit card for shopping online seems like mandatory, specially during quarantine. However everybody (at least me!) feels a bit unsecured when they input their card numbers on a website. There are many risks out there, identity fraud, theft of bank details, etc. \n",
    "Fortunately many banks are catching up with fraud detection applying machine learning techniques. In this article/gist we are going to demonstrate how we can use boosted decision trees to detect fraud in credit cards records.\n"
   ]
  },
  {
   "cell_type": "markdown",
   "metadata": {},
   "source": [
    "# Decision tree"
   ]
  },
  {
   "cell_type": "markdown",
   "metadata": {},
   "source": [
    "A decision tree is decision tool whose structure resemble a tree. Each of the nodes of this structure represents a \"test\" (or evaluation of an activation function). Using the results of these test, the classification rules are obtained which goes from the root (input) to the leaves (outputs). \n",
    "\n",
    "One example of decision tree is the Galton machine:\n",
    "\n",
    "|![Galton machine](galton_machine.gif)| \n",
    "|:------:|\n",
    "|   [Galton machine](https://en.wikipedia.org/wiki/File:Galton_box.webm) |\n",
    "|From [Wikipedia-Beam machine](https://en.wikipedia.org/wiki/Bean_machine)  |"
   ]
  },
  {
   "cell_type": "markdown",
   "metadata": {},
   "source": [
    "Each of the pegs is a test where the ball will be driven to one of the sides. Since all the pegs and balls are equal, the probability of the ball going to one side or another is the same. Since it is the same, the balls will tend to be closer to the center because the probability of them going to the extremes is lower. This machine generate a distribution of the balls which corresponds to the \"**normal distribution**\". \n",
    "\n",
    "\n",
    "\n",
    "| ![Galton board](https://github.com/germa89/Financial_Fraud_Detection/blob/master/galton_board.png) | \n",
    "|:------:|\n",
    "|   Galton representation  |\n",
    "| Copyright : Peter Hermes Furian. [123RF.com](https://www.123rf.com/photo_79407706_stock-vector-the-mathematics-of-the-galton-board-with-normal-distribution-and-gaussian-bell-curve-also-quincunx-b.html) |\n",
    "\n",
    "The decision trees present several advantages. The main one is that they are easy to understand and interpret hence these models are widely applied in order to obtain a good understanding of the underlying model.\n",
    "\n",
    "\n",
    "## Decision Tree Structure\n",
    "The decision trees are composed of:\n",
    "- Nodes. Where the branches growth from. Here is where the tests are applied.\n",
    "- Branches. They represents the links between nodes.\n",
    "- Leaves. They are the final output at the end of the branches. They might not be applied any tests. \n",
    "\n"
   ]
  },
  {
   "cell_type": "markdown",
   "metadata": {},
   "source": [
    "# Gradient Boosted Decision Trees\n"
   ]
  },
  {
   "cell_type": "markdown",
   "metadata": {},
   "source": [
    "The XGBoost is the solution for the optimization of assemblies of decision trees. It is based on the concept that decision trees can be considered as a function which can be optimized using gradient techniques as any common function. \n",
    "This optimization would be \"measured\" using a loss function. \n",
    "This function is a measure of the error in the predicted values compared with the real values in the training set.\n",
    "\n",
    "The algorithm uses the next inputs:\n",
    "\n",
    "- Training set: $\\{(x_i, y_i)\\}^n_{i=1}$ \n",
    "- Differentiable loss function: $L(y,F(x))$ \n",
    "- Maximum number of iterations: $M$\n",
    "\n",
    "and follows the next steps (From Wikipedia):\n",
    "\n",
    "1. Initialize the model with random values.\n",
    "\n",
    "$$F_0(x) = \\arg \\min \\sum^n_{i=1} L(y_i, \\gamma)$$\n",
    "\n",
    "2. For m=1 to M:  \n",
    "\n",
    "    2.1. Compute so-called pseudo-residuals:\n",
    "    $$ r_{im} = - \\left[ \\dfrac{\\partial L(y_i,F(x_i))}{\\partial F(x_i)} \\right]_{F(x) = F_{m-1}(x)} \\hspace{3ex} \\text{for i = 1,  ..., n}$$   \n",
    "    \n",
    "    2.2. Fit a base learner (or weak learner e.g. tree) $h_m(x)$ to pseudo-residuals, i.e. train it using the training set.     \n",
    "    \n",
    "    2.3. Compute multiplier $\\gamma_m$ by solving the one-dimensional optimization problem:\n",
    "    $$ \\gamma_m = \\arg \\min \\sum^n_{i=1} L(y_i, F_{m-1}(x_i) + \\gamma h_m(x_i))$$   \n",
    "    \n",
    "    2.4. Update the model:\n",
    "    $$ F_m(x) = F_{m-1}(x) + \\gamma_m h_m(x)$$\n",
    "\n",
    "3. Output $F_M(x)$.\n",
    "\n",
    "This is as it is explained in Wikipedia. However in a more simplistic way, this procedure could be explained as:\n",
    "\n",
    "1. Initialize the model with random values ($x_0$).\n",
    "2. Start iterations until maximum number of iterations is reached. \n",
    "\n",
    "    2.1. Calculate the increments in the loss function for the values ($x_m$).  \n",
    "    2.2. Train the decision trees ($h_m(x)$) to fit the increments.  \n",
    "    2.3. Obtain $\\gamma$ from the optimization problem given the trained trees.  \n",
    "    2.4. Update the model ($F_m(x)$).   \n",
    "    \n",
    "It should be noticed that the decision trees are trained on the residual, hence their results $h_m(x)$ are added to the solution in the previous iteration $F_{m-1}(x)$ multiplied by $\\gamma_m$. \n",
    "\n",
    "\n",
    "## Avoiding overfitting.\n",
    "\n",
    "Overfitting is the what happens when the model tends to replicate very accurate the training set but it does not perform well on new data. \n",
    "This is considered as a reduction in the generality of the model and it is addressed by using regularization techniques:\n",
    "\n",
    "### Shrinkage\n",
    "This consists in adding another multiplier to the $\\gamma_m$ coefficient:  \n",
    "\n",
    "$$ F_m(x) = F_{m-1}(x) + \\nu \\gamma_m h_m(x)  \\hspace{3ex} 0 < \\nu \\leq 1$$   \n",
    "\n",
    "where $\\nu$ is called \"learning rate\". \n",
    "\n",
    "This improves substantially the performance the model. Empirically it is demonstrated that values of $\\nu$ lower than 0.1 are the best. \n",
    "\n",
    "\n",
    "### Stochastic gradient boosting\n",
    "\n",
    "Stochastic gradient boosting take the idea from the bootstrap aggregation (\"bagging\") method. \n",
    "The idea consists on train each of the trees ($h_m(x)$) in a subset of the training set randomly generated without replacement.\n",
    "It has been observed that this improve substantially the model accuracy. \n",
    "The subsample size is represented as a fraction $f$ of the total set. If $f=1$ this improvement is not applied. Practically it has been observed that for moderate or small size dataset, the optimal $f$ values are between 0.5 and 0.8.\n",
    "Since the subsets are smaller, there is generally an improvement in the training speed. \n",
    "\n",
    "This approach might leave out some observations when building the learners (trees). These observation can be used as a validation inside the scheme hence it is not needed a validation set. The error between these leave-out observations and the model predictions is called \"out-of-bag error. \n",
    "\n",
    "\n",
    "### Number of observation in leaves.\n",
    "Ensuring that there is, at least, a minimum number of observations in each of the leaves of the trees is another way to help to regularize the model. \n",
    "\n",
    "\n",
    "### Penalize tree complexity\n",
    "The complexity of the tree is measured as the number of leaves. Using a suitable pruning approach it might help to reduce the number of leaves by removing leaves or branches that do not contribute to reduce the loss by a threshold. \n",
    "\n",
    "\n",
    "--  \n",
    "**REFERENCES:**   \n",
    "\n",
    "1. [Wikipedia-Decision Tree](https://en.wikipedia.org/wiki/Decision_tree)   \n",
    "2. [Wikipedia-Gradient Boosting](https://en.wikipedia.org/wiki/Gradient_boosting)   \n",
    "3. [Wikipedia-Receiver operating characteristics](https://en.wikipedia.org/wiki/Receiver_operating_characteristic)   "
   ]
  },
  {
   "cell_type": "markdown",
   "metadata": {},
   "source": [
    "# Application of XGBoost to Finance Fraud detection\n",
    "\n",
    "## Dataset: Credit card transfers."
   ]
  },
  {
   "cell_type": "markdown",
   "metadata": {},
   "source": [
    "Importing libraries"
   ]
  },
  {
   "cell_type": "code",
   "execution_count": 1,
   "metadata": {},
   "outputs": [],
   "source": [
    "from pprint import pprint\n",
    "import pandas as pd\n",
    "import numpy as np\n",
    "import matplotlib.pyplot as plt"
   ]
  },
  {
   "cell_type": "markdown",
   "metadata": {},
   "source": [
    "Reading the data "
   ]
  },
  {
   "cell_type": "code",
   "execution_count": 2,
   "metadata": {},
   "outputs": [
    {
     "name": "stdout",
     "output_type": "stream",
     "text": [
      "Index(['Time', 'V1', 'V2', 'V3', 'V4', 'V5', 'V6', 'V7', 'V8', 'V9', 'V10',\n",
      "       'V11', 'V12', 'V13', 'V14', 'V15', 'V16', 'V17', 'V18', 'V19', 'V20',\n",
      "       'V21', 'V22', 'V23', 'V24', 'V25', 'V26', 'V27', 'V28', 'Amount',\n",
      "       'Class'],\n",
      "      dtype='object')\n"
     ]
    },
    {
     "data": {
      "text/html": [
       "<div>\n",
       "<style scoped>\n",
       "    .dataframe tbody tr th:only-of-type {\n",
       "        vertical-align: middle;\n",
       "    }\n",
       "\n",
       "    .dataframe tbody tr th {\n",
       "        vertical-align: top;\n",
       "    }\n",
       "\n",
       "    .dataframe thead th {\n",
       "        text-align: right;\n",
       "    }\n",
       "</style>\n",
       "<table border=\"1\" class=\"dataframe\">\n",
       "  <thead>\n",
       "    <tr style=\"text-align: right;\">\n",
       "      <th></th>\n",
       "      <th>Time</th>\n",
       "      <th>V1</th>\n",
       "      <th>V2</th>\n",
       "      <th>V3</th>\n",
       "      <th>V4</th>\n",
       "      <th>V5</th>\n",
       "      <th>V6</th>\n",
       "      <th>V7</th>\n",
       "      <th>V8</th>\n",
       "      <th>V9</th>\n",
       "      <th>...</th>\n",
       "      <th>V21</th>\n",
       "      <th>V22</th>\n",
       "      <th>V23</th>\n",
       "      <th>V24</th>\n",
       "      <th>V25</th>\n",
       "      <th>V26</th>\n",
       "      <th>V27</th>\n",
       "      <th>V28</th>\n",
       "      <th>Amount</th>\n",
       "      <th>Class</th>\n",
       "    </tr>\n",
       "  </thead>\n",
       "  <tbody>\n",
       "    <tr>\n",
       "      <th>0</th>\n",
       "      <td>0.0</td>\n",
       "      <td>-1.359807</td>\n",
       "      <td>-0.072781</td>\n",
       "      <td>2.536347</td>\n",
       "      <td>1.378155</td>\n",
       "      <td>-0.338321</td>\n",
       "      <td>0.462388</td>\n",
       "      <td>0.239599</td>\n",
       "      <td>0.098698</td>\n",
       "      <td>0.363787</td>\n",
       "      <td>...</td>\n",
       "      <td>-0.018307</td>\n",
       "      <td>0.277838</td>\n",
       "      <td>-0.110474</td>\n",
       "      <td>0.066928</td>\n",
       "      <td>0.128539</td>\n",
       "      <td>-0.189115</td>\n",
       "      <td>0.133558</td>\n",
       "      <td>-0.021053</td>\n",
       "      <td>149.62</td>\n",
       "      <td>0</td>\n",
       "    </tr>\n",
       "    <tr>\n",
       "      <th>1</th>\n",
       "      <td>0.0</td>\n",
       "      <td>1.191857</td>\n",
       "      <td>0.266151</td>\n",
       "      <td>0.166480</td>\n",
       "      <td>0.448154</td>\n",
       "      <td>0.060018</td>\n",
       "      <td>-0.082361</td>\n",
       "      <td>-0.078803</td>\n",
       "      <td>0.085102</td>\n",
       "      <td>-0.255425</td>\n",
       "      <td>...</td>\n",
       "      <td>-0.225775</td>\n",
       "      <td>-0.638672</td>\n",
       "      <td>0.101288</td>\n",
       "      <td>-0.339846</td>\n",
       "      <td>0.167170</td>\n",
       "      <td>0.125895</td>\n",
       "      <td>-0.008983</td>\n",
       "      <td>0.014724</td>\n",
       "      <td>2.69</td>\n",
       "      <td>0</td>\n",
       "    </tr>\n",
       "    <tr>\n",
       "      <th>2</th>\n",
       "      <td>1.0</td>\n",
       "      <td>-1.358354</td>\n",
       "      <td>-1.340163</td>\n",
       "      <td>1.773209</td>\n",
       "      <td>0.379780</td>\n",
       "      <td>-0.503198</td>\n",
       "      <td>1.800499</td>\n",
       "      <td>0.791461</td>\n",
       "      <td>0.247676</td>\n",
       "      <td>-1.514654</td>\n",
       "      <td>...</td>\n",
       "      <td>0.247998</td>\n",
       "      <td>0.771679</td>\n",
       "      <td>0.909412</td>\n",
       "      <td>-0.689281</td>\n",
       "      <td>-0.327642</td>\n",
       "      <td>-0.139097</td>\n",
       "      <td>-0.055353</td>\n",
       "      <td>-0.059752</td>\n",
       "      <td>378.66</td>\n",
       "      <td>0</td>\n",
       "    </tr>\n",
       "    <tr>\n",
       "      <th>3</th>\n",
       "      <td>1.0</td>\n",
       "      <td>-0.966272</td>\n",
       "      <td>-0.185226</td>\n",
       "      <td>1.792993</td>\n",
       "      <td>-0.863291</td>\n",
       "      <td>-0.010309</td>\n",
       "      <td>1.247203</td>\n",
       "      <td>0.237609</td>\n",
       "      <td>0.377436</td>\n",
       "      <td>-1.387024</td>\n",
       "      <td>...</td>\n",
       "      <td>-0.108300</td>\n",
       "      <td>0.005274</td>\n",
       "      <td>-0.190321</td>\n",
       "      <td>-1.175575</td>\n",
       "      <td>0.647376</td>\n",
       "      <td>-0.221929</td>\n",
       "      <td>0.062723</td>\n",
       "      <td>0.061458</td>\n",
       "      <td>123.50</td>\n",
       "      <td>0</td>\n",
       "    </tr>\n",
       "    <tr>\n",
       "      <th>4</th>\n",
       "      <td>2.0</td>\n",
       "      <td>-1.158233</td>\n",
       "      <td>0.877737</td>\n",
       "      <td>1.548718</td>\n",
       "      <td>0.403034</td>\n",
       "      <td>-0.407193</td>\n",
       "      <td>0.095921</td>\n",
       "      <td>0.592941</td>\n",
       "      <td>-0.270533</td>\n",
       "      <td>0.817739</td>\n",
       "      <td>...</td>\n",
       "      <td>-0.009431</td>\n",
       "      <td>0.798278</td>\n",
       "      <td>-0.137458</td>\n",
       "      <td>0.141267</td>\n",
       "      <td>-0.206010</td>\n",
       "      <td>0.502292</td>\n",
       "      <td>0.219422</td>\n",
       "      <td>0.215153</td>\n",
       "      <td>69.99</td>\n",
       "      <td>0</td>\n",
       "    </tr>\n",
       "  </tbody>\n",
       "</table>\n",
       "<p>5 rows × 31 columns</p>\n",
       "</div>"
      ],
      "text/plain": [
       "   Time        V1        V2        V3        V4        V5        V6        V7  \\\n",
       "0   0.0 -1.359807 -0.072781  2.536347  1.378155 -0.338321  0.462388  0.239599   \n",
       "1   0.0  1.191857  0.266151  0.166480  0.448154  0.060018 -0.082361 -0.078803   \n",
       "2   1.0 -1.358354 -1.340163  1.773209  0.379780 -0.503198  1.800499  0.791461   \n",
       "3   1.0 -0.966272 -0.185226  1.792993 -0.863291 -0.010309  1.247203  0.237609   \n",
       "4   2.0 -1.158233  0.877737  1.548718  0.403034 -0.407193  0.095921  0.592941   \n",
       "\n",
       "         V8        V9  ...       V21       V22       V23       V24       V25  \\\n",
       "0  0.098698  0.363787  ... -0.018307  0.277838 -0.110474  0.066928  0.128539   \n",
       "1  0.085102 -0.255425  ... -0.225775 -0.638672  0.101288 -0.339846  0.167170   \n",
       "2  0.247676 -1.514654  ...  0.247998  0.771679  0.909412 -0.689281 -0.327642   \n",
       "3  0.377436 -1.387024  ... -0.108300  0.005274 -0.190321 -1.175575  0.647376   \n",
       "4 -0.270533  0.817739  ... -0.009431  0.798278 -0.137458  0.141267 -0.206010   \n",
       "\n",
       "        V26       V27       V28  Amount  Class  \n",
       "0 -0.189115  0.133558 -0.021053  149.62      0  \n",
       "1  0.125895 -0.008983  0.014724    2.69      0  \n",
       "2 -0.139097 -0.055353 -0.059752  378.66      0  \n",
       "3 -0.221929  0.062723  0.061458  123.50      0  \n",
       "4  0.502292  0.219422  0.215153   69.99      0  \n",
       "\n",
       "[5 rows x 31 columns]"
      ]
     },
     "execution_count": 2,
     "metadata": {},
     "output_type": "execute_result"
    }
   ],
   "source": [
    "df = pd.read_csv(\"creditcard.csv\")\n",
    "\n",
    "print(df.columns)\n",
    "df.head()"
   ]
  },
  {
   "cell_type": "markdown",
   "metadata": {},
   "source": [
    "The variables are not defined, then we are going to use a black-input approach. We won't do an exploratory analysis. \n",
    "\n",
    "Since decision trees do not required normalization of the data [1](https://datascience.stackexchange.com/questions/60950/is-it-necessary-to-normalise-data-for-xgboost), the XGBoost does not required either. \n"
   ]
  },
  {
   "cell_type": "markdown",
   "metadata": {},
   "source": [
    "## Model application"
   ]
  },
  {
   "cell_type": "code",
   "execution_count": 3,
   "metadata": {},
   "outputs": [],
   "source": [
    "from sklearn.model_selection import train_test_split"
   ]
  },
  {
   "cell_type": "code",
   "execution_count": 4,
   "metadata": {},
   "outputs": [],
   "source": [
    "# Splitting the dataset\n",
    "from sklearn.model_selection import train_test_split\n",
    "\n",
    "X_train, X_test, y_train, y_test = train_test_split(\n",
    "                                    df.drop('Class',axis=1),\n",
    "                                    df['Class'],\n",
    "                                    test_size=0.3,\n",
    "                                    train_size=0.7,\n",
    "                                    random_state=1)"
   ]
  },
  {
   "cell_type": "code",
   "execution_count": 5,
   "metadata": {},
   "outputs": [],
   "source": [
    "from sklearn.metrics import roc_auc_score as measure_roc_auc\n",
    "from xgboost.sklearn import XGBClassifier\n",
    "from sklearn.model_selection import RandomizedSearchCV"
   ]
  },
  {
   "cell_type": "markdown",
   "metadata": {},
   "source": [
    "We will use a random search algorithm which will find the optimal values for the model parameters. \n",
    "Other option is to use a grid search, however this grid search is frequently more time-consuming than the random search. "
   ]
  },
  {
   "cell_type": "code",
   "execution_count": 6,
   "metadata": {},
   "outputs": [
    {
     "name": "stdout",
     "output_type": "stream",
     "text": [
      "Fitting 10 folds for each of 20 candidates, totalling 200 fits\n"
     ]
    },
    {
     "name": "stderr",
     "output_type": "stream",
     "text": [
      "[Parallel(n_jobs=2)]: Using backend LokyBackend with 2 concurrent workers.\n",
      "[Parallel(n_jobs=2)]: Done  37 tasks      | elapsed: 31.7min\n",
      "[Parallel(n_jobs=2)]: Done 158 tasks      | elapsed: 155.5min\n",
      "[Parallel(n_jobs=2)]: Done 200 out of 200 | elapsed: 195.1min finished\n"
     ]
    },
    {
     "data": {
      "text/plain": [
       "RandomizedSearchCV(cv=10, error_score=nan,\n",
       "                   estimator=XGBClassifier(base_score=None, booster=None,\n",
       "                                           colsample_bylevel=None,\n",
       "                                           colsample_bynode=None,\n",
       "                                           colsample_bytree=None, gamma=None,\n",
       "                                           gpu_id=None, importance_type='gain',\n",
       "                                           interaction_constraints=None,\n",
       "                                           learning_rate=None, max_bin=16,\n",
       "                                           max_delta_step=None, max_depth=None,\n",
       "                                           min_child_weight=None, missing=nan,\n",
       "                                           monotone_constr...\n",
       "                                           validate_parameters=False,\n",
       "                                           verbosity=None),\n",
       "                   iid='deprecated', n_iter=20, n_jobs=2,\n",
       "                   param_distributions={'colsample_bytree': [0.1, 0.3, 0.5],\n",
       "                                        'learning_rate': [0.01, 0.033, 0.063,\n",
       "                                                          0.1],\n",
       "                                        'max_depth': [3, 5],\n",
       "                                        'n_estimators': [100, 200, 500],\n",
       "                                        'subsample': [0.1, 0.3, 0.5]},\n",
       "                   pre_dispatch='2*n_jobs', random_state=None, refit=True,\n",
       "                   return_train_score=False, scoring='roc_auc', verbose=2)"
      ]
     },
     "execution_count": 6,
     "metadata": {},
     "output_type": "execute_result"
    }
   ],
   "source": [
    "xgb = XGBClassifier(max_bin=16)\n",
    "\n",
    "# Space search for the parameters.\n",
    "prams={\n",
    "    'learning_rate':[0.01,0.033,0.063,0.1], #Step size shrinkage used to prevent overfitting. Range is [0,1]\n",
    "    'n_estimators':[100,200,500],        #Number of trees you want to build.\n",
    "    'max_depth':[3,5],                          #The maximum depth of a tree\n",
    "    'colsample_bytree':[0.1,0.3,0.5],            #Denotes the fraction of columns to be randomly samples for each tree.\n",
    "    'subsample':[0.1,0.3,0.5]                    #Denotes the fraction of observations to be randomly samples for each tree.\n",
    "}\n",
    "\n",
    "# prams={\n",
    "#     'learning_rate':[0.05], #Step size shrinkage used to prevent overfitting. Range is [0,1]\n",
    "#     'n_estimators':[100],        #Number of trees you want to build.\n",
    "#     'max_depth':[3],                          #The maximum depth of a tree\n",
    "#     'colsample_bytree':[0.1],            #Denotes the fraction of columns to be randomly samples for each tree.\n",
    "#     'subsample':[0.1]                    #Denotes the fraction of observations to be randomly samples for each tree.\n",
    "# }\n",
    "\n",
    "\n",
    "#RandomizedSearchCV search for the optimal set of hyperparameters\n",
    "opt_xgb=RandomizedSearchCV(xgb,\n",
    "                              param_distributions=prams,\n",
    "                              verbose=2,\n",
    "                              n_iter=20,\n",
    "                              cv=10,\n",
    "                              scoring='roc_auc',\n",
    "                              n_jobs=2 # To speed up calculations\n",
    "                             );\n",
    "\n",
    "opt_xgb.fit(X_train, y_train) #Training"
   ]
  },
  {
   "cell_type": "markdown",
   "metadata": {},
   "source": [
    "Let's save the model for later sessions."
   ]
  },
  {
   "cell_type": "code",
   "execution_count": 7,
   "metadata": {},
   "outputs": [
    {
     "name": "stdout",
     "output_type": "stream",
     "text": [
      "Stored 'opt_xgb' (RandomizedSearchCV)\n",
      "Stored 'df' (DataFrame)\n"
     ]
    }
   ],
   "source": [
    "# Saving\n",
    "%store opt_xgb df \n",
    "pickle.dump(opt_xgb, open(\"model.dat\", \"wb\"))\n",
    "\n",
    "#load \n",
    "# %store -r opt_xgb df \n",
    "# loaded_model = pickle.load(open(\"model.dat\", \"rb\"))"
   ]
  },
  {
   "cell_type": "markdown",
   "metadata": {},
   "source": [
    "Printing model best parameters."
   ]
  },
  {
   "cell_type": "code",
   "execution_count": 8,
   "metadata": {},
   "outputs": [
    {
     "name": "stdout",
     "output_type": "stream",
     "text": [
      "{'colsample_bytree': 0.1,\n",
      " 'learning_rate': 0.033,\n",
      " 'max_depth': 3,\n",
      " 'n_estimators': 500,\n",
      " 'subsample': 0.3}\n",
      "\n",
      "The AUC score is 0.9814628856726895\n"
     ]
    }
   ],
   "source": [
    "pprint(opt_xgb.best_params_)\n",
    "print(\"\\nThe AUC score is {}\".format(opt_xgb.best_score_))"
   ]
  },
  {
   "cell_type": "markdown",
   "metadata": {},
   "source": [
    "Predicting on the test values. "
   ]
  },
  {
   "cell_type": "code",
   "execution_count": 9,
   "metadata": {},
   "outputs": [
    {
     "name": "stdout",
     "output_type": "stream",
     "text": [
      "The test AUC for training data is: 0.982795\n"
     ]
    }
   ],
   "source": [
    "predict_y = opt_xgb.predict_proba(X_test)\n",
    "accur_training = measure_roc_auc(y_test, predict_y[:, 1])\n",
    "\n",
    "print(\"The test AUC for training data is: {:0.6f}\".format(accur_training))"
   ]
  },
  {
   "cell_type": "markdown",
   "metadata": {},
   "source": [
    "The AUC score is 0.962289 on the test samples. The AUC score is the area under the curve ROC which is the relation between the true positive rate (TPR) against the false positive rate (FPR) at various threshold settings. \n",
    "The higher the values of the true positive, the better performs the algorithm. \n",
    "\n",
    "The area under the curve ROC (AUC-ROC) is used as a metric for many algorithms. Other metrics can be the F-1 score, the mean-squared-error (MSE), etc. \n",
    "\n",
    "\n",
    "| ![Example of ROC curve-From wikipedia](https://upload.wikimedia.org/wikipedia/commons/6/6b/Roccurves.png)| \n",
    "|:------:|\n",
    "|   ROC Curve  |\n",
    "|[ROC Curve-From Wikipedia](https://upload.wikimedia.org/wikipedia/commons/6/6b/Roccurves.png) |\n",
    "\n",
    "\n",
    "Let's plot our own ROC curve:\n"
   ]
  },
  {
   "cell_type": "code",
   "execution_count": 10,
   "metadata": {},
   "outputs": [],
   "source": [
    "from sklearn.metrics import roc_curve, auc "
   ]
  },
  {
   "cell_type": "code",
   "execution_count": 11,
   "metadata": {},
   "outputs": [
    {
     "data": {
      "image/png": "[encoded data removed]",
      "text/plain": [
       "<Figure size 432x288 with 1 Axes>"
      ]
     },
     "metadata": {
      "needs_background": "light"
     },
     "output_type": "display_data"
    }
   ],
   "source": [
    "# Compute ROC curve and ROC area for each class\n",
    "fpr, tpr, _ = roc_curve(y_test, predict_y[:, 1],\n",
    "                        drop_intermediate = True)\n",
    "\n",
    "roc_auc = auc(fpr, tpr)\n",
    "\n",
    "# Plot of a ROC curve for a specific class\n",
    "plt.figure()\n",
    "lw = 2\n",
    "\n",
    "plt.plot(fpr, tpr, color='darkorange',\n",
    "         lw=lw, label='ROC curve (area = %0.4f)' % roc_auc)\n",
    "\n",
    "plt.plot([0, 1], [0, 1], color='navy', lw=lw, linestyle='--')\n",
    "\n",
    "plt.xlim([0.0, 1.0])\n",
    "plt.ylim([0.0, 1.05])\n",
    "plt.xlabel('False Positive Rate')\n",
    "plt.ylabel('True Positive Rate')\n",
    "plt.title('Receiver operating characteristic example')\n",
    "plt.legend(loc=\"lower right\")\n",
    "plt.show()"
   ]
  },
  {
   "cell_type": "markdown",
   "metadata": {},
   "source": [
    "Finally let's plot the importance of the features extracted from the model."
   ]
  },
  {
   "cell_type": "code",
   "execution_count": 12,
   "metadata": {},
   "outputs": [
    {
     "data": {
      "image/png": "[encoded data removed]",
      "text/plain": [
       "<Figure size 432x288 with 1 Axes>"
      ]
     },
     "metadata": {
      "needs_background": "light"
     },
     "output_type": "display_data"
    }
   ],
   "source": [
    "from xgboost import plot_importance\n",
    "from xgboost import plot_tree\n",
    "\n",
    "model = opt_xgb.best_estimator_\n",
    " \n",
    "plot_importance(model, importance_type='gain', max_num_features=10); "
   ]
  },
  {
   "cell_type": "markdown",
   "metadata": {},
   "source": [
    "# Conclusion\n",
    "\n",
    "Machine learning algorithms such as XGBoost based on decision trees can be used to detect fraud in finance with a high accuracy (more than 95%). \n"
   ]
  }
 ],
 "metadata": {
  "hide_input": false,
  "kernelspec": {
   "display_name": "Python 3",
   "language": "python",
   "name": "python3"
  },
  "language_info": {
   "codemirror_mode": {
    "name": "ipython",
    "version": 3
   },
   "file_extension": ".py",
   "mimetype": "text/x-python",
   "name": "python",
   "nbconvert_exporter": "python",
   "pygments_lexer": "ipython3",
   "version": "3.7.7"
  },
  "toc": {
   "base_numbering": 1,
   "nav_menu": {},
   "number_sections": true,
   "sideBar": true,
   "skip_h1_title": false,
   "title_cell": "Table of Contents",
   "title_sidebar": "Contents",
   "toc_cell": false,
   "toc_position": {},
   "toc_section_display": true,
   "toc_window_display": false
  },
  "varInspector": {
   "cols": {
    "lenName": 16,
    "lenType": 16,
    "lenVar": 40
   },
   "kernels_config": {
    "python": {
     "delete_cmd_postfix": "",
     "delete_cmd_prefix": "del ",
     "library": "var_list.py",
     "varRefreshCmd": "print(var_dic_list())"
    },
    "r": {
     "delete_cmd_postfix": ") ",
     "delete_cmd_prefix": "rm(",
     "library": "var_list.r",
     "varRefreshCmd": "cat(var_dic_list()) "
    }
   },
   "types_to_exclude": [
    "module",
    "function",
    "builtin_function_or_method",
    "instance",
    "_Feature"
   ],
   "window_display": false
  }
 },
 "nbformat": 4,
 "nbformat_minor": 4
}
